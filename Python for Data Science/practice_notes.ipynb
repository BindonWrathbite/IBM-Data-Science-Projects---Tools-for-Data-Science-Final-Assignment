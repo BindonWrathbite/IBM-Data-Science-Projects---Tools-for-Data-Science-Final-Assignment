{
 "cells": [
  {
   "cell_type": "markdown",
   "metadata": {},
   "source": [
    "## Reading Files\n",
    "file1 = open(\"File Path Here\", \"r\") - r=reading w=writing a=appending\n",
    "file1.name = name of file\n",
    "file1.mode = mode (r, w, a)\n",
    "file1.close() - Should always close file\n",
    "### Use this instead of open and close"
   ]
  },
  {
   "cell_type": "code",
   "execution_count": null,
   "metadata": {},
   "outputs": [],
   "source": [
    "with open(\"example.txt\", \"r\") as file: #stores the file as a raw string\n",
    "    file_stuff = file.read()\n",
    "    print(file_stuff)\n",
    "print(file.closed)\n",
    "print(file_stuff)"
   ]
  },
  {
   "cell_type": "code",
   "execution_count": null,
   "metadata": {},
   "outputs": [],
   "source": [
    "with open(\"example.txt\", \"r\") as file: # Creates a list of each line\n",
    "    file_stuff = file.readline() or readlines()\n",
    "    print(file_stuff)"
   ]
  },
  {
   "cell_type": "markdown",
   "metadata": {},
   "source": [
    "# Writing to Files"
   ]
  },
  {
   "cell_type": "code",
   "execution_count": null,
   "metadata": {},
   "outputs": [],
   "source": [
    "with open(\"example.txt\", 'w') as file: #will overwrite the file if exists or create if not\n",
    "    file.write(\"This is line A\\n\") #could use a instead of w to append to file\n",
    "    file.write(\"This is line B\\n\")\n",
    "    file.write(\"This is line C\\n\")\n"
   ]
  },
  {
   "cell_type": "code",
   "execution_count": null,
   "metadata": {},
   "outputs": [],
   "source": []
  }
 ],
 "metadata": {
  "kernelspec": {
   "display_name": "ibm_data_practice",
   "language": "python",
   "name": "python3"
  },
  "language_info": {
   "codemirror_mode": {
    "name": "ipython",
    "version": 3
   },
   "file_extension": ".py",
   "mimetype": "text/x-python",
   "name": "python",
   "nbconvert_exporter": "python",
   "pygments_lexer": "ipython3",
   "version": "3.13.0"
  }
 },
 "nbformat": 4,
 "nbformat_minor": 2
}
